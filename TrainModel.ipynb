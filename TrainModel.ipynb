{
  "nbformat": 4,
  "nbformat_minor": 0,
  "metadata": {
    "kernelspec": {
      "display_name": "Python 3",
      "language": "python",
      "name": "python3"
    },
    "language_info": {
      "codemirror_mode": {
        "name": "ipython",
        "version": 3
      },
      "file_extension": ".py",
      "mimetype": "text/x-python",
      "name": "python",
      "nbconvert_exporter": "python",
      "pygments_lexer": "ipython3",
      "version": "3.7.6"
    },
    "colab": {
      "name": "Untitled.ipynb",
      "provenance": []
    },
    "accelerator": "GPU"
  },
  "cells": [
    {
      "cell_type": "code",
      "metadata": {
        "id": "URyAH6DV88vt"
      },
      "source": [
        "# import the necessary packages"
      ],
      "execution_count": 77,
      "outputs": []
    },
    {
      "cell_type": "code",
      "metadata": {
        "id": "Sc9TA3fh9u3j",
        "outputId": "28bfc220-eb36-4502-d9ff-c66bf6efeef7",
        "colab": {
          "base_uri": "https://localhost:8080/",
          "height": 34
        }
      },
      "source": [
        "from google.colab import drive\n",
        "drive.mount('/content/gdrive')"
      ],
      "execution_count": 78,
      "outputs": [
        {
          "output_type": "stream",
          "text": [
            "Drive already mounted at /content/gdrive; to attempt to forcibly remount, call drive.mount(\"/content/gdrive\", force_remount=True).\n"
          ],
          "name": "stdout"
        }
      ]
    },
    {
      "cell_type": "code",
      "metadata": {
        "id": "bXZdGNCx88vy"
      },
      "source": [
        "from tensorflow.keras.preprocessing.image import ImageDataGenerator\n",
        "from tensorflow.keras.applications import ResNet50\n",
        "from tensorflow.keras.layers import AveragePooling2D\n",
        "from tensorflow.keras.layers import Dropout\n",
        "from tensorflow.keras.layers import Flatten\n",
        "from tensorflow.keras.layers import Dense\n",
        "from tensorflow.keras.layers import Input\n",
        "from tensorflow.keras.models import Model\n",
        "from tensorflow.keras.optimizers import Adam\n",
        "from tensorflow.keras.applications.mobilenet_v2 import preprocess_input\n",
        "from tensorflow.keras.preprocessing.image import img_to_array\n",
        "from tensorflow.keras.preprocessing.image import load_img\n",
        "from tensorflow.keras.utils import to_categorical\n",
        "from sklearn.model_selection import train_test_split\n",
        "from sklearn.metrics import classification_report\n",
        "from imutils import paths\n",
        "import matplotlib.pyplot as plt \n",
        "import numpy as np \n",
        "import os \n",
        "import pandas as pd\n",
        "\n"
      ],
      "execution_count": 79,
      "outputs": []
    },
    {
      "cell_type": "code",
      "metadata": {
        "id": "cfrDT4mJ88v2"
      },
      "source": [
        "# Learning rate, epochs and batches "
      ],
      "execution_count": 80,
      "outputs": []
    },
    {
      "cell_type": "code",
      "metadata": {
        "id": "9UjYCNgU88v6"
      },
      "source": [
        "initLayer = 1e-4\n",
        "epochs = 70\n",
        "batch = 32"
      ],
      "execution_count": 81,
      "outputs": []
    },
    {
      "cell_type": "code",
      "metadata": {
        "id": "eeWhBqyf_PNF"
      },
      "source": [
        "df = pd.read_csv ('/content/gdrive/My Drive/age_gender.csv')\n",
        "import os\n",
        "import os.path\n",
        "import csv\n",
        "from PIL import Image\n",
        "\n",
        "\n",
        "# Ethnicity labels\n",
        "ETHNICITIES = { \n",
        "    0: \"White\", \n",
        "    1: \"Black\",\n",
        "    2: \"Asian\",\n",
        "    3: \"Indian\",\n",
        "    4: \"Hispanic\"\n",
        "}\n",
        "\n",
        "# Gender labels\n",
        "GENDERS = { \n",
        "    0: \"Male\", \n",
        "    1: \"Female\"\n",
        "}\n",
        "\n",
        "AGES = {\n",
        "    0: \"Child\",\n",
        "    1: \"Teen\",\n",
        "    2: \"Young_Adult\",\n",
        "    3: \"Adult\",\n",
        "    4: \"Elderly\"\n",
        "}\n",
        "\n",
        "\n",
        "# Directory to store the images\n",
        "base_path = os.path.join(os.path.curdir, 'images')\n",
        "labeled_paths = {}\n",
        "if not os.path.isdir(base_path):\n",
        "    os.makedirs(base_path)\n",
        "\n",
        "# Sort images in directories by ethnicity then gender\n",
        "# ToDo: Add ages labes and directories \n",
        "for ek, ev in ETHNICITIES.items():\n",
        "    for ak, av in AGES.items():\n",
        "        for gk, gv in GENDERS.items():     \n",
        "            labeled_path = os.path.join(base_path, ev, av, gv)\n",
        "            if (gk == 0):\n",
        "                labeled_paths.setdefault(ek,{})[ak] = {0: \"\", 1: \"\"}\n",
        "            labeled_paths.setdefault(ek,{})[ak][gk] = labeled_path\n",
        "            if not os.path.isdir(labeled_path):\n",
        "                os.makedirs(labeled_path)\n",
        "\n",
        "\n",
        "    # Read dataset as dict entries\n",
        "csv_reader = csv.DictReader(df)\n",
        "\n",
        "with open('/content/gdrive/My Drive/age_gender.csv',\"r\") as fp:\n",
        "    # Read dataset as dict entries\n",
        "    csv_reader = csv.DictReader(fp)\n",
        "\n",
        "    for row in csv_reader:\n",
        "        age = int(row['age'])\n",
        "        ethnicity = int(row['ethnicity'])\n",
        "        gender = int(row['gender'])\n",
        "\n",
        "        ageLabel = \"\"\n",
        "\n",
        "        if age > 61:\n",
        "            ageLabel = 4\n",
        "        elif age > 21:\n",
        "            ageLabel = 3\n",
        "        elif age > 18:\n",
        "            ageLabel = 2\n",
        "        elif age > 12:\n",
        "            ageLabel = 1\n",
        "        else: ageLabel = 0\n",
        "\n",
        "\n",
        "        # Extract pixel string (string list of grayscale integers sep by space)\n",
        "        pixels = bytearray([int(px) for px in row['pixels'].split(' ')])\n",
        "\n",
        "        # Create new Image of resolution 48*48 from pixels\n",
        "        #   I assumed a square image, so I computed\n",
        "        #     len(pixels)**.5  # = 48.0\n",
        "        #   to get the resolution.\n",
        "        img = Image.frombytes('L', (48,48), bytes(pixels))\n",
        "\n",
        "        # Name of file to write to\n",
        "        #file_name = row['img_name']\n",
        "        # or name file with labels: age_ethnicity_gender-original.jpg\n",
        "        file_name = f\"{ageLabel}_{ethnicity}_{gender}-{row['img_name'].split('.')[0]}.jpg\"\n",
        "\n",
        "        # The path to save the image to\n",
        "        file_dir = labeled_paths.get(ethnicity, {}).get(ageLabel, {}).get( gender, base_path)\n",
        "        file_path = os.path.join(file_dir, file_name)\n",
        "\n",
        "        # Write out the Image file\n",
        "        img.save(file_path)\n",
        "        # or save without JPEG compression\n",
        "        #img.save(file_path + \".png\", 'png', compress_level=0)"
      ],
      "execution_count": 82,
      "outputs": []
    },
    {
      "cell_type": "code",
      "metadata": {
        "id": "LVCZJq_m88v9"
      },
      "source": [
        "# getting files and initializing our data and labels array"
      ],
      "execution_count": 83,
      "outputs": []
    },
    {
      "cell_type": "code",
      "metadata": {
        "id": "C35-0WhY88wB"
      },
      "source": [
        "directory = \"./images\"\n",
        "ethnicities = [\"Asian\", \"Black\", \"Hispanic\", \"Indian\", \"White\"]\n",
        "ages = [\"Child\", \"Teen\", \"Young_Adult\", \"Adult\", \"Elderly\"]\n",
        "genders = [\"Female\", \"Male\"]\n",
        "data = []\n",
        "labels = []\n",
        "label = 0\n",
        "for ethnicity in ethnicities:\n",
        "    for age in ages:\n",
        "        for gender in genders:\n",
        "            path = os.path.join(directory, ethnicity, age, gender)\n",
        "            \n",
        "            for img in os.listdir(path):\n",
        "                img_path = os.path.join(path, img)\n",
        "                image = load_img(img_path, target_size=(48, 48))\n",
        "                image = img_to_array(image)\n",
        "                image = preprocess_input(image)\n",
        "                data.append(image)\n",
        "                labels.append(label)\n",
        "            label += 1"
      ],
      "execution_count": 84,
      "outputs": []
    },
    {
      "cell_type": "code",
      "metadata": {
        "id": "EUdIYze188wE"
      },
      "source": [
        "# transforming our labels to categorical and then  to numpy array"
      ],
      "execution_count": 85,
      "outputs": []
    },
    {
      "cell_type": "code",
      "metadata": {
        "id": "nAHmMxFk88wI"
      },
      "source": [
        "labels = to_categorical(labels)\n",
        "data = np.array(data,dtype=\"float32\")\n",
        "labels = np.array(labels)"
      ],
      "execution_count": 86,
      "outputs": []
    },
    {
      "cell_type": "code",
      "metadata": {
        "id": "MDkXDW6v88wL",
        "outputId": "ce3df5e5-ae3b-42b5-b2a4-8cdaea92fc4d",
        "colab": {
          "base_uri": "https://localhost:8080/",
          "height": 136
        }
      },
      "source": [
        "print(labels)"
      ],
      "execution_count": 87,
      "outputs": [
        {
          "output_type": "stream",
          "text": [
            "[[1. 0. 0. ... 0. 0. 0.]\n",
            " [1. 0. 0. ... 0. 0. 0.]\n",
            " [1. 0. 0. ... 0. 0. 0.]\n",
            " ...\n",
            " [0. 0. 0. ... 0. 0. 1.]\n",
            " [0. 0. 0. ... 0. 0. 1.]\n",
            " [0. 0. 0. ... 0. 0. 1.]]\n"
          ],
          "name": "stdout"
        }
      ]
    },
    {
      "cell_type": "code",
      "metadata": {
        "id": "shekHp1I88wP",
        "outputId": "7bb6d185-3e78-4b86-deb3-217a2c5737d1",
        "colab": {
          "base_uri": "https://localhost:8080/",
          "height": 51
        }
      },
      "source": [
        "print(len(labels))\n",
        "print(len(labels[0]))"
      ],
      "execution_count": 88,
      "outputs": [
        {
          "output_type": "stream",
          "text": [
            "23607\n",
            "50\n"
          ],
          "name": "stdout"
        }
      ]
    },
    {
      "cell_type": "code",
      "metadata": {
        "id": "sdnScURS88wS"
      },
      "source": [
        "# partition the data into training and testing splits using 80% of\n",
        "# the data for training and the remaining 20% for testing"
      ],
      "execution_count": 89,
      "outputs": []
    },
    {
      "cell_type": "code",
      "metadata": {
        "id": "ChImuyfx88wW"
      },
      "source": [
        "(trainX,testX,trainY,testY) = train_test_split(data,labels,test_size=0.20,stratify=labels,random_state=20)"
      ],
      "execution_count": 90,
      "outputs": []
    },
    {
      "cell_type": "code",
      "metadata": {
        "id": "OIRZJald88wZ"
      },
      "source": [
        "# initialize the training data augmentation object"
      ],
      "execution_count": 91,
      "outputs": []
    },
    {
      "cell_type": "code",
      "metadata": {
        "id": "AybS4KME88wc"
      },
      "source": [
        "aug = ImageDataGenerator(\n",
        "    rotation_range=20,\n",
        "    zoom_range=0.15,\n",
        "    width_shift_range=0.2,\n",
        "    height_shift_range=0.2,\n",
        "    shear_range=0.15,\n",
        "    horizontal_flip=True,\n",
        "    fill_mode=\"nearest\")"
      ],
      "execution_count": 92,
      "outputs": []
    },
    {
      "cell_type": "code",
      "metadata": {
        "id": "gNxX48kI88wg"
      },
      "source": [
        "# initialize the validation/testing data augmentation object (which\n",
        "# we'll be adding mean subtraction to)"
      ],
      "execution_count": 93,
      "outputs": []
    },
    {
      "cell_type": "code",
      "metadata": {
        "id": "QGwXZFVt88wj"
      },
      "source": [
        "valAug = ImageDataGenerator()"
      ],
      "execution_count": 94,
      "outputs": []
    },
    {
      "cell_type": "code",
      "metadata": {
        "id": "lrVZ05Am88wm"
      },
      "source": [
        "# define the ImageNet mean subtraction (in RGB order) and set the\n",
        "# the mean subtraction value for each of the data augmentation\n",
        "# objects"
      ],
      "execution_count": 95,
      "outputs": []
    },
    {
      "cell_type": "code",
      "metadata": {
        "id": "eOtdrWtE88wp"
      },
      "source": [
        "mean = np.array([123.68, 116.779, 103.939], dtype=\"float32\")\n",
        "aug.mean = mean\n",
        "valAug.mean = mean"
      ],
      "execution_count": 96,
      "outputs": []
    },
    {
      "cell_type": "code",
      "metadata": {
        "id": "BEZ1AHFK88wt"
      },
      "source": [
        "# load RsdNet%0, ensuring the head FC layer sets are left off, while at\n",
        "# the same time adjusting the size of the input image tensor to the\n",
        "# network"
      ],
      "execution_count": 97,
      "outputs": []
    },
    {
      "cell_type": "code",
      "metadata": {
        "id": "_DbzG9H488wx"
      },
      "source": [
        "baseModel = ResNet50(\n",
        "    include_top=False,\n",
        "    weights=\"imagenet\",\n",
        "    classes=50,\n",
        "    input_tensor=Input(shape=(48, 48, 3))\n",
        ")"
      ],
      "execution_count": 98,
      "outputs": []
    },
    {
      "cell_type": "code",
      "metadata": {
        "id": "_5G3Mukd88w0"
      },
      "source": [
        "# show a summary of the base model"
      ],
      "execution_count": 99,
      "outputs": []
    },
    {
      "cell_type": "code",
      "metadata": {
        "id": "zwfl9r1z88w4",
        "outputId": "57924f47-0db0-46ec-a053-688f50835e80",
        "colab": {
          "base_uri": "https://localhost:8080/",
          "height": 1000
        }
      },
      "source": [
        "print(\"[INFO] summary for base model...\")\n",
        "print(baseModel.summary())"
      ],
      "execution_count": 100,
      "outputs": [
        {
          "output_type": "stream",
          "text": [
            "[INFO] summary for base model...\n",
            "Model: \"resnet50\"\n",
            "__________________________________________________________________________________________________\n",
            "Layer (type)                    Output Shape         Param #     Connected to                     \n",
            "==================================================================================================\n",
            "input_3 (InputLayer)            [(None, 48, 48, 3)]  0                                            \n",
            "__________________________________________________________________________________________________\n",
            "conv1_pad (ZeroPadding2D)       (None, 54, 54, 3)    0           input_3[0][0]                    \n",
            "__________________________________________________________________________________________________\n",
            "conv1_conv (Conv2D)             (None, 24, 24, 64)   9472        conv1_pad[0][0]                  \n",
            "__________________________________________________________________________________________________\n",
            "conv1_bn (BatchNormalization)   (None, 24, 24, 64)   256         conv1_conv[0][0]                 \n",
            "__________________________________________________________________________________________________\n",
            "conv1_relu (Activation)         (None, 24, 24, 64)   0           conv1_bn[0][0]                   \n",
            "__________________________________________________________________________________________________\n",
            "pool1_pad (ZeroPadding2D)       (None, 26, 26, 64)   0           conv1_relu[0][0]                 \n",
            "__________________________________________________________________________________________________\n",
            "pool1_pool (MaxPooling2D)       (None, 12, 12, 64)   0           pool1_pad[0][0]                  \n",
            "__________________________________________________________________________________________________\n",
            "conv2_block1_1_conv (Conv2D)    (None, 12, 12, 64)   4160        pool1_pool[0][0]                 \n",
            "__________________________________________________________________________________________________\n",
            "conv2_block1_1_bn (BatchNormali (None, 12, 12, 64)   256         conv2_block1_1_conv[0][0]        \n",
            "__________________________________________________________________________________________________\n",
            "conv2_block1_1_relu (Activation (None, 12, 12, 64)   0           conv2_block1_1_bn[0][0]          \n",
            "__________________________________________________________________________________________________\n",
            "conv2_block1_2_conv (Conv2D)    (None, 12, 12, 64)   36928       conv2_block1_1_relu[0][0]        \n",
            "__________________________________________________________________________________________________\n",
            "conv2_block1_2_bn (BatchNormali (None, 12, 12, 64)   256         conv2_block1_2_conv[0][0]        \n",
            "__________________________________________________________________________________________________\n",
            "conv2_block1_2_relu (Activation (None, 12, 12, 64)   0           conv2_block1_2_bn[0][0]          \n",
            "__________________________________________________________________________________________________\n",
            "conv2_block1_0_conv (Conv2D)    (None, 12, 12, 256)  16640       pool1_pool[0][0]                 \n",
            "__________________________________________________________________________________________________\n",
            "conv2_block1_3_conv (Conv2D)    (None, 12, 12, 256)  16640       conv2_block1_2_relu[0][0]        \n",
            "__________________________________________________________________________________________________\n",
            "conv2_block1_0_bn (BatchNormali (None, 12, 12, 256)  1024        conv2_block1_0_conv[0][0]        \n",
            "__________________________________________________________________________________________________\n",
            "conv2_block1_3_bn (BatchNormali (None, 12, 12, 256)  1024        conv2_block1_3_conv[0][0]        \n",
            "__________________________________________________________________________________________________\n",
            "conv2_block1_add (Add)          (None, 12, 12, 256)  0           conv2_block1_0_bn[0][0]          \n",
            "                                                                 conv2_block1_3_bn[0][0]          \n",
            "__________________________________________________________________________________________________\n",
            "conv2_block1_out (Activation)   (None, 12, 12, 256)  0           conv2_block1_add[0][0]           \n",
            "__________________________________________________________________________________________________\n",
            "conv2_block2_1_conv (Conv2D)    (None, 12, 12, 64)   16448       conv2_block1_out[0][0]           \n",
            "__________________________________________________________________________________________________\n",
            "conv2_block2_1_bn (BatchNormali (None, 12, 12, 64)   256         conv2_block2_1_conv[0][0]        \n",
            "__________________________________________________________________________________________________\n",
            "conv2_block2_1_relu (Activation (None, 12, 12, 64)   0           conv2_block2_1_bn[0][0]          \n",
            "__________________________________________________________________________________________________\n",
            "conv2_block2_2_conv (Conv2D)    (None, 12, 12, 64)   36928       conv2_block2_1_relu[0][0]        \n",
            "__________________________________________________________________________________________________\n",
            "conv2_block2_2_bn (BatchNormali (None, 12, 12, 64)   256         conv2_block2_2_conv[0][0]        \n",
            "__________________________________________________________________________________________________\n",
            "conv2_block2_2_relu (Activation (None, 12, 12, 64)   0           conv2_block2_2_bn[0][0]          \n",
            "__________________________________________________________________________________________________\n",
            "conv2_block2_3_conv (Conv2D)    (None, 12, 12, 256)  16640       conv2_block2_2_relu[0][0]        \n",
            "__________________________________________________________________________________________________\n",
            "conv2_block2_3_bn (BatchNormali (None, 12, 12, 256)  1024        conv2_block2_3_conv[0][0]        \n",
            "__________________________________________________________________________________________________\n",
            "conv2_block2_add (Add)          (None, 12, 12, 256)  0           conv2_block1_out[0][0]           \n",
            "                                                                 conv2_block2_3_bn[0][0]          \n",
            "__________________________________________________________________________________________________\n",
            "conv2_block2_out (Activation)   (None, 12, 12, 256)  0           conv2_block2_add[0][0]           \n",
            "__________________________________________________________________________________________________\n",
            "conv2_block3_1_conv (Conv2D)    (None, 12, 12, 64)   16448       conv2_block2_out[0][0]           \n",
            "__________________________________________________________________________________________________\n",
            "conv2_block3_1_bn (BatchNormali (None, 12, 12, 64)   256         conv2_block3_1_conv[0][0]        \n",
            "__________________________________________________________________________________________________\n",
            "conv2_block3_1_relu (Activation (None, 12, 12, 64)   0           conv2_block3_1_bn[0][0]          \n",
            "__________________________________________________________________________________________________\n",
            "conv2_block3_2_conv (Conv2D)    (None, 12, 12, 64)   36928       conv2_block3_1_relu[0][0]        \n",
            "__________________________________________________________________________________________________\n",
            "conv2_block3_2_bn (BatchNormali (None, 12, 12, 64)   256         conv2_block3_2_conv[0][0]        \n",
            "__________________________________________________________________________________________________\n",
            "conv2_block3_2_relu (Activation (None, 12, 12, 64)   0           conv2_block3_2_bn[0][0]          \n",
            "__________________________________________________________________________________________________\n",
            "conv2_block3_3_conv (Conv2D)    (None, 12, 12, 256)  16640       conv2_block3_2_relu[0][0]        \n",
            "__________________________________________________________________________________________________\n",
            "conv2_block3_3_bn (BatchNormali (None, 12, 12, 256)  1024        conv2_block3_3_conv[0][0]        \n",
            "__________________________________________________________________________________________________\n",
            "conv2_block3_add (Add)          (None, 12, 12, 256)  0           conv2_block2_out[0][0]           \n",
            "                                                                 conv2_block3_3_bn[0][0]          \n",
            "__________________________________________________________________________________________________\n",
            "conv2_block3_out (Activation)   (None, 12, 12, 256)  0           conv2_block3_add[0][0]           \n",
            "__________________________________________________________________________________________________\n",
            "conv3_block1_1_conv (Conv2D)    (None, 6, 6, 128)    32896       conv2_block3_out[0][0]           \n",
            "__________________________________________________________________________________________________\n",
            "conv3_block1_1_bn (BatchNormali (None, 6, 6, 128)    512         conv3_block1_1_conv[0][0]        \n",
            "__________________________________________________________________________________________________\n",
            "conv3_block1_1_relu (Activation (None, 6, 6, 128)    0           conv3_block1_1_bn[0][0]          \n",
            "__________________________________________________________________________________________________\n",
            "conv3_block1_2_conv (Conv2D)    (None, 6, 6, 128)    147584      conv3_block1_1_relu[0][0]        \n",
            "__________________________________________________________________________________________________\n",
            "conv3_block1_2_bn (BatchNormali (None, 6, 6, 128)    512         conv3_block1_2_conv[0][0]        \n",
            "__________________________________________________________________________________________________\n",
            "conv3_block1_2_relu (Activation (None, 6, 6, 128)    0           conv3_block1_2_bn[0][0]          \n",
            "__________________________________________________________________________________________________\n",
            "conv3_block1_0_conv (Conv2D)    (None, 6, 6, 512)    131584      conv2_block3_out[0][0]           \n",
            "__________________________________________________________________________________________________\n",
            "conv3_block1_3_conv (Conv2D)    (None, 6, 6, 512)    66048       conv3_block1_2_relu[0][0]        \n",
            "__________________________________________________________________________________________________\n",
            "conv3_block1_0_bn (BatchNormali (None, 6, 6, 512)    2048        conv3_block1_0_conv[0][0]        \n",
            "__________________________________________________________________________________________________\n",
            "conv3_block1_3_bn (BatchNormali (None, 6, 6, 512)    2048        conv3_block1_3_conv[0][0]        \n",
            "__________________________________________________________________________________________________\n",
            "conv3_block1_add (Add)          (None, 6, 6, 512)    0           conv3_block1_0_bn[0][0]          \n",
            "                                                                 conv3_block1_3_bn[0][0]          \n",
            "__________________________________________________________________________________________________\n",
            "conv3_block1_out (Activation)   (None, 6, 6, 512)    0           conv3_block1_add[0][0]           \n",
            "__________________________________________________________________________________________________\n",
            "conv3_block2_1_conv (Conv2D)    (None, 6, 6, 128)    65664       conv3_block1_out[0][0]           \n",
            "__________________________________________________________________________________________________\n",
            "conv3_block2_1_bn (BatchNormali (None, 6, 6, 128)    512         conv3_block2_1_conv[0][0]        \n",
            "__________________________________________________________________________________________________\n",
            "conv3_block2_1_relu (Activation (None, 6, 6, 128)    0           conv3_block2_1_bn[0][0]          \n",
            "__________________________________________________________________________________________________\n",
            "conv3_block2_2_conv (Conv2D)    (None, 6, 6, 128)    147584      conv3_block2_1_relu[0][0]        \n",
            "__________________________________________________________________________________________________\n",
            "conv3_block2_2_bn (BatchNormali (None, 6, 6, 128)    512         conv3_block2_2_conv[0][0]        \n",
            "__________________________________________________________________________________________________\n",
            "conv3_block2_2_relu (Activation (None, 6, 6, 128)    0           conv3_block2_2_bn[0][0]          \n",
            "__________________________________________________________________________________________________\n",
            "conv3_block2_3_conv (Conv2D)    (None, 6, 6, 512)    66048       conv3_block2_2_relu[0][0]        \n",
            "__________________________________________________________________________________________________\n",
            "conv3_block2_3_bn (BatchNormali (None, 6, 6, 512)    2048        conv3_block2_3_conv[0][0]        \n",
            "__________________________________________________________________________________________________\n",
            "conv3_block2_add (Add)          (None, 6, 6, 512)    0           conv3_block1_out[0][0]           \n",
            "                                                                 conv3_block2_3_bn[0][0]          \n",
            "__________________________________________________________________________________________________\n",
            "conv3_block2_out (Activation)   (None, 6, 6, 512)    0           conv3_block2_add[0][0]           \n",
            "__________________________________________________________________________________________________\n",
            "conv3_block3_1_conv (Conv2D)    (None, 6, 6, 128)    65664       conv3_block2_out[0][0]           \n",
            "__________________________________________________________________________________________________\n",
            "conv3_block3_1_bn (BatchNormali (None, 6, 6, 128)    512         conv3_block3_1_conv[0][0]        \n",
            "__________________________________________________________________________________________________\n",
            "conv3_block3_1_relu (Activation (None, 6, 6, 128)    0           conv3_block3_1_bn[0][0]          \n",
            "__________________________________________________________________________________________________\n",
            "conv3_block3_2_conv (Conv2D)    (None, 6, 6, 128)    147584      conv3_block3_1_relu[0][0]        \n",
            "__________________________________________________________________________________________________\n",
            "conv3_block3_2_bn (BatchNormali (None, 6, 6, 128)    512         conv3_block3_2_conv[0][0]        \n",
            "__________________________________________________________________________________________________\n",
            "conv3_block3_2_relu (Activation (None, 6, 6, 128)    0           conv3_block3_2_bn[0][0]          \n",
            "__________________________________________________________________________________________________\n",
            "conv3_block3_3_conv (Conv2D)    (None, 6, 6, 512)    66048       conv3_block3_2_relu[0][0]        \n",
            "__________________________________________________________________________________________________\n",
            "conv3_block3_3_bn (BatchNormali (None, 6, 6, 512)    2048        conv3_block3_3_conv[0][0]        \n",
            "__________________________________________________________________________________________________\n",
            "conv3_block3_add (Add)          (None, 6, 6, 512)    0           conv3_block2_out[0][0]           \n",
            "                                                                 conv3_block3_3_bn[0][0]          \n",
            "__________________________________________________________________________________________________\n",
            "conv3_block3_out (Activation)   (None, 6, 6, 512)    0           conv3_block3_add[0][0]           \n",
            "__________________________________________________________________________________________________\n",
            "conv3_block4_1_conv (Conv2D)    (None, 6, 6, 128)    65664       conv3_block3_out[0][0]           \n",
            "__________________________________________________________________________________________________\n",
            "conv3_block4_1_bn (BatchNormali (None, 6, 6, 128)    512         conv3_block4_1_conv[0][0]        \n",
            "__________________________________________________________________________________________________\n",
            "conv3_block4_1_relu (Activation (None, 6, 6, 128)    0           conv3_block4_1_bn[0][0]          \n",
            "__________________________________________________________________________________________________\n",
            "conv3_block4_2_conv (Conv2D)    (None, 6, 6, 128)    147584      conv3_block4_1_relu[0][0]        \n",
            "__________________________________________________________________________________________________\n",
            "conv3_block4_2_bn (BatchNormali (None, 6, 6, 128)    512         conv3_block4_2_conv[0][0]        \n",
            "__________________________________________________________________________________________________\n",
            "conv3_block4_2_relu (Activation (None, 6, 6, 128)    0           conv3_block4_2_bn[0][0]          \n",
            "__________________________________________________________________________________________________\n",
            "conv3_block4_3_conv (Conv2D)    (None, 6, 6, 512)    66048       conv3_block4_2_relu[0][0]        \n",
            "__________________________________________________________________________________________________\n",
            "conv3_block4_3_bn (BatchNormali (None, 6, 6, 512)    2048        conv3_block4_3_conv[0][0]        \n",
            "__________________________________________________________________________________________________\n",
            "conv3_block4_add (Add)          (None, 6, 6, 512)    0           conv3_block3_out[0][0]           \n",
            "                                                                 conv3_block4_3_bn[0][0]          \n",
            "__________________________________________________________________________________________________\n",
            "conv3_block4_out (Activation)   (None, 6, 6, 512)    0           conv3_block4_add[0][0]           \n",
            "__________________________________________________________________________________________________\n",
            "conv4_block1_1_conv (Conv2D)    (None, 3, 3, 256)    131328      conv3_block4_out[0][0]           \n",
            "__________________________________________________________________________________________________\n",
            "conv4_block1_1_bn (BatchNormali (None, 3, 3, 256)    1024        conv4_block1_1_conv[0][0]        \n",
            "__________________________________________________________________________________________________\n",
            "conv4_block1_1_relu (Activation (None, 3, 3, 256)    0           conv4_block1_1_bn[0][0]          \n",
            "__________________________________________________________________________________________________\n",
            "conv4_block1_2_conv (Conv2D)    (None, 3, 3, 256)    590080      conv4_block1_1_relu[0][0]        \n",
            "__________________________________________________________________________________________________\n",
            "conv4_block1_2_bn (BatchNormali (None, 3, 3, 256)    1024        conv4_block1_2_conv[0][0]        \n",
            "__________________________________________________________________________________________________\n",
            "conv4_block1_2_relu (Activation (None, 3, 3, 256)    0           conv4_block1_2_bn[0][0]          \n",
            "__________________________________________________________________________________________________\n",
            "conv4_block1_0_conv (Conv2D)    (None, 3, 3, 1024)   525312      conv3_block4_out[0][0]           \n",
            "__________________________________________________________________________________________________\n",
            "conv4_block1_3_conv (Conv2D)    (None, 3, 3, 1024)   263168      conv4_block1_2_relu[0][0]        \n",
            "__________________________________________________________________________________________________\n",
            "conv4_block1_0_bn (BatchNormali (None, 3, 3, 1024)   4096        conv4_block1_0_conv[0][0]        \n",
            "__________________________________________________________________________________________________\n",
            "conv4_block1_3_bn (BatchNormali (None, 3, 3, 1024)   4096        conv4_block1_3_conv[0][0]        \n",
            "__________________________________________________________________________________________________\n",
            "conv4_block1_add (Add)          (None, 3, 3, 1024)   0           conv4_block1_0_bn[0][0]          \n",
            "                                                                 conv4_block1_3_bn[0][0]          \n",
            "__________________________________________________________________________________________________\n",
            "conv4_block1_out (Activation)   (None, 3, 3, 1024)   0           conv4_block1_add[0][0]           \n",
            "__________________________________________________________________________________________________\n",
            "conv4_block2_1_conv (Conv2D)    (None, 3, 3, 256)    262400      conv4_block1_out[0][0]           \n",
            "__________________________________________________________________________________________________\n",
            "conv4_block2_1_bn (BatchNormali (None, 3, 3, 256)    1024        conv4_block2_1_conv[0][0]        \n",
            "__________________________________________________________________________________________________\n",
            "conv4_block2_1_relu (Activation (None, 3, 3, 256)    0           conv4_block2_1_bn[0][0]          \n",
            "__________________________________________________________________________________________________\n",
            "conv4_block2_2_conv (Conv2D)    (None, 3, 3, 256)    590080      conv4_block2_1_relu[0][0]        \n",
            "__________________________________________________________________________________________________\n",
            "conv4_block2_2_bn (BatchNormali (None, 3, 3, 256)    1024        conv4_block2_2_conv[0][0]        \n",
            "__________________________________________________________________________________________________\n",
            "conv4_block2_2_relu (Activation (None, 3, 3, 256)    0           conv4_block2_2_bn[0][0]          \n",
            "__________________________________________________________________________________________________\n",
            "conv4_block2_3_conv (Conv2D)    (None, 3, 3, 1024)   263168      conv4_block2_2_relu[0][0]        \n",
            "__________________________________________________________________________________________________\n",
            "conv4_block2_3_bn (BatchNormali (None, 3, 3, 1024)   4096        conv4_block2_3_conv[0][0]        \n",
            "__________________________________________________________________________________________________\n",
            "conv4_block2_add (Add)          (None, 3, 3, 1024)   0           conv4_block1_out[0][0]           \n",
            "                                                                 conv4_block2_3_bn[0][0]          \n",
            "__________________________________________________________________________________________________\n",
            "conv4_block2_out (Activation)   (None, 3, 3, 1024)   0           conv4_block2_add[0][0]           \n",
            "__________________________________________________________________________________________________\n",
            "conv4_block3_1_conv (Conv2D)    (None, 3, 3, 256)    262400      conv4_block2_out[0][0]           \n",
            "__________________________________________________________________________________________________\n",
            "conv4_block3_1_bn (BatchNormali (None, 3, 3, 256)    1024        conv4_block3_1_conv[0][0]        \n",
            "__________________________________________________________________________________________________\n",
            "conv4_block3_1_relu (Activation (None, 3, 3, 256)    0           conv4_block3_1_bn[0][0]          \n",
            "__________________________________________________________________________________________________\n",
            "conv4_block3_2_conv (Conv2D)    (None, 3, 3, 256)    590080      conv4_block3_1_relu[0][0]        \n",
            "__________________________________________________________________________________________________\n",
            "conv4_block3_2_bn (BatchNormali (None, 3, 3, 256)    1024        conv4_block3_2_conv[0][0]        \n",
            "__________________________________________________________________________________________________\n",
            "conv4_block3_2_relu (Activation (None, 3, 3, 256)    0           conv4_block3_2_bn[0][0]          \n",
            "__________________________________________________________________________________________________\n",
            "conv4_block3_3_conv (Conv2D)    (None, 3, 3, 1024)   263168      conv4_block3_2_relu[0][0]        \n",
            "__________________________________________________________________________________________________\n",
            "conv4_block3_3_bn (BatchNormali (None, 3, 3, 1024)   4096        conv4_block3_3_conv[0][0]        \n",
            "__________________________________________________________________________________________________\n",
            "conv4_block3_add (Add)          (None, 3, 3, 1024)   0           conv4_block2_out[0][0]           \n",
            "                                                                 conv4_block3_3_bn[0][0]          \n",
            "__________________________________________________________________________________________________\n",
            "conv4_block3_out (Activation)   (None, 3, 3, 1024)   0           conv4_block3_add[0][0]           \n",
            "__________________________________________________________________________________________________\n",
            "conv4_block4_1_conv (Conv2D)    (None, 3, 3, 256)    262400      conv4_block3_out[0][0]           \n",
            "__________________________________________________________________________________________________\n",
            "conv4_block4_1_bn (BatchNormali (None, 3, 3, 256)    1024        conv4_block4_1_conv[0][0]        \n",
            "__________________________________________________________________________________________________\n",
            "conv4_block4_1_relu (Activation (None, 3, 3, 256)    0           conv4_block4_1_bn[0][0]          \n",
            "__________________________________________________________________________________________________\n",
            "conv4_block4_2_conv (Conv2D)    (None, 3, 3, 256)    590080      conv4_block4_1_relu[0][0]        \n",
            "__________________________________________________________________________________________________\n",
            "conv4_block4_2_bn (BatchNormali (None, 3, 3, 256)    1024        conv4_block4_2_conv[0][0]        \n",
            "__________________________________________________________________________________________________\n",
            "conv4_block4_2_relu (Activation (None, 3, 3, 256)    0           conv4_block4_2_bn[0][0]          \n",
            "__________________________________________________________________________________________________\n",
            "conv4_block4_3_conv (Conv2D)    (None, 3, 3, 1024)   263168      conv4_block4_2_relu[0][0]        \n",
            "__________________________________________________________________________________________________\n",
            "conv4_block4_3_bn (BatchNormali (None, 3, 3, 1024)   4096        conv4_block4_3_conv[0][0]        \n",
            "__________________________________________________________________________________________________\n",
            "conv4_block4_add (Add)          (None, 3, 3, 1024)   0           conv4_block3_out[0][0]           \n",
            "                                                                 conv4_block4_3_bn[0][0]          \n",
            "__________________________________________________________________________________________________\n",
            "conv4_block4_out (Activation)   (None, 3, 3, 1024)   0           conv4_block4_add[0][0]           \n",
            "__________________________________________________________________________________________________\n",
            "conv4_block5_1_conv (Conv2D)    (None, 3, 3, 256)    262400      conv4_block4_out[0][0]           \n",
            "__________________________________________________________________________________________________\n",
            "conv4_block5_1_bn (BatchNormali (None, 3, 3, 256)    1024        conv4_block5_1_conv[0][0]        \n",
            "__________________________________________________________________________________________________\n",
            "conv4_block5_1_relu (Activation (None, 3, 3, 256)    0           conv4_block5_1_bn[0][0]          \n",
            "__________________________________________________________________________________________________\n",
            "conv4_block5_2_conv (Conv2D)    (None, 3, 3, 256)    590080      conv4_block5_1_relu[0][0]        \n",
            "__________________________________________________________________________________________________\n",
            "conv4_block5_2_bn (BatchNormali (None, 3, 3, 256)    1024        conv4_block5_2_conv[0][0]        \n",
            "__________________________________________________________________________________________________\n",
            "conv4_block5_2_relu (Activation (None, 3, 3, 256)    0           conv4_block5_2_bn[0][0]          \n",
            "__________________________________________________________________________________________________\n",
            "conv4_block5_3_conv (Conv2D)    (None, 3, 3, 1024)   263168      conv4_block5_2_relu[0][0]        \n",
            "__________________________________________________________________________________________________\n",
            "conv4_block5_3_bn (BatchNormali (None, 3, 3, 1024)   4096        conv4_block5_3_conv[0][0]        \n",
            "__________________________________________________________________________________________________\n",
            "conv4_block5_add (Add)          (None, 3, 3, 1024)   0           conv4_block4_out[0][0]           \n",
            "                                                                 conv4_block5_3_bn[0][0]          \n",
            "__________________________________________________________________________________________________\n",
            "conv4_block5_out (Activation)   (None, 3, 3, 1024)   0           conv4_block5_add[0][0]           \n",
            "__________________________________________________________________________________________________\n",
            "conv4_block6_1_conv (Conv2D)    (None, 3, 3, 256)    262400      conv4_block5_out[0][0]           \n",
            "__________________________________________________________________________________________________\n",
            "conv4_block6_1_bn (BatchNormali (None, 3, 3, 256)    1024        conv4_block6_1_conv[0][0]        \n",
            "__________________________________________________________________________________________________\n",
            "conv4_block6_1_relu (Activation (None, 3, 3, 256)    0           conv4_block6_1_bn[0][0]          \n",
            "__________________________________________________________________________________________________\n",
            "conv4_block6_2_conv (Conv2D)    (None, 3, 3, 256)    590080      conv4_block6_1_relu[0][0]        \n",
            "__________________________________________________________________________________________________\n",
            "conv4_block6_2_bn (BatchNormali (None, 3, 3, 256)    1024        conv4_block6_2_conv[0][0]        \n",
            "__________________________________________________________________________________________________\n",
            "conv4_block6_2_relu (Activation (None, 3, 3, 256)    0           conv4_block6_2_bn[0][0]          \n",
            "__________________________________________________________________________________________________\n",
            "conv4_block6_3_conv (Conv2D)    (None, 3, 3, 1024)   263168      conv4_block6_2_relu[0][0]        \n",
            "__________________________________________________________________________________________________\n",
            "conv4_block6_3_bn (BatchNormali (None, 3, 3, 1024)   4096        conv4_block6_3_conv[0][0]        \n",
            "__________________________________________________________________________________________________\n",
            "conv4_block6_add (Add)          (None, 3, 3, 1024)   0           conv4_block5_out[0][0]           \n",
            "                                                                 conv4_block6_3_bn[0][0]          \n",
            "__________________________________________________________________________________________________\n",
            "conv4_block6_out (Activation)   (None, 3, 3, 1024)   0           conv4_block6_add[0][0]           \n",
            "__________________________________________________________________________________________________\n",
            "conv5_block1_1_conv (Conv2D)    (None, 2, 2, 512)    524800      conv4_block6_out[0][0]           \n",
            "__________________________________________________________________________________________________\n",
            "conv5_block1_1_bn (BatchNormali (None, 2, 2, 512)    2048        conv5_block1_1_conv[0][0]        \n",
            "__________________________________________________________________________________________________\n",
            "conv5_block1_1_relu (Activation (None, 2, 2, 512)    0           conv5_block1_1_bn[0][0]          \n",
            "__________________________________________________________________________________________________\n",
            "conv5_block1_2_conv (Conv2D)    (None, 2, 2, 512)    2359808     conv5_block1_1_relu[0][0]        \n",
            "__________________________________________________________________________________________________\n",
            "conv5_block1_2_bn (BatchNormali (None, 2, 2, 512)    2048        conv5_block1_2_conv[0][0]        \n",
            "__________________________________________________________________________________________________\n",
            "conv5_block1_2_relu (Activation (None, 2, 2, 512)    0           conv5_block1_2_bn[0][0]          \n",
            "__________________________________________________________________________________________________\n",
            "conv5_block1_0_conv (Conv2D)    (None, 2, 2, 2048)   2099200     conv4_block6_out[0][0]           \n",
            "__________________________________________________________________________________________________\n",
            "conv5_block1_3_conv (Conv2D)    (None, 2, 2, 2048)   1050624     conv5_block1_2_relu[0][0]        \n",
            "__________________________________________________________________________________________________\n",
            "conv5_block1_0_bn (BatchNormali (None, 2, 2, 2048)   8192        conv5_block1_0_conv[0][0]        \n",
            "__________________________________________________________________________________________________\n",
            "conv5_block1_3_bn (BatchNormali (None, 2, 2, 2048)   8192        conv5_block1_3_conv[0][0]        \n",
            "__________________________________________________________________________________________________\n",
            "conv5_block1_add (Add)          (None, 2, 2, 2048)   0           conv5_block1_0_bn[0][0]          \n",
            "                                                                 conv5_block1_3_bn[0][0]          \n",
            "__________________________________________________________________________________________________\n",
            "conv5_block1_out (Activation)   (None, 2, 2, 2048)   0           conv5_block1_add[0][0]           \n",
            "__________________________________________________________________________________________________\n",
            "conv5_block2_1_conv (Conv2D)    (None, 2, 2, 512)    1049088     conv5_block1_out[0][0]           \n",
            "__________________________________________________________________________________________________\n",
            "conv5_block2_1_bn (BatchNormali (None, 2, 2, 512)    2048        conv5_block2_1_conv[0][0]        \n",
            "__________________________________________________________________________________________________\n",
            "conv5_block2_1_relu (Activation (None, 2, 2, 512)    0           conv5_block2_1_bn[0][0]          \n",
            "__________________________________________________________________________________________________\n",
            "conv5_block2_2_conv (Conv2D)    (None, 2, 2, 512)    2359808     conv5_block2_1_relu[0][0]        \n",
            "__________________________________________________________________________________________________\n",
            "conv5_block2_2_bn (BatchNormali (None, 2, 2, 512)    2048        conv5_block2_2_conv[0][0]        \n",
            "__________________________________________________________________________________________________\n",
            "conv5_block2_2_relu (Activation (None, 2, 2, 512)    0           conv5_block2_2_bn[0][0]          \n",
            "__________________________________________________________________________________________________\n",
            "conv5_block2_3_conv (Conv2D)    (None, 2, 2, 2048)   1050624     conv5_block2_2_relu[0][0]        \n",
            "__________________________________________________________________________________________________\n",
            "conv5_block2_3_bn (BatchNormali (None, 2, 2, 2048)   8192        conv5_block2_3_conv[0][0]        \n",
            "__________________________________________________________________________________________________\n",
            "conv5_block2_add (Add)          (None, 2, 2, 2048)   0           conv5_block1_out[0][0]           \n",
            "                                                                 conv5_block2_3_bn[0][0]          \n",
            "__________________________________________________________________________________________________\n",
            "conv5_block2_out (Activation)   (None, 2, 2, 2048)   0           conv5_block2_add[0][0]           \n",
            "__________________________________________________________________________________________________\n",
            "conv5_block3_1_conv (Conv2D)    (None, 2, 2, 512)    1049088     conv5_block2_out[0][0]           \n",
            "__________________________________________________________________________________________________\n",
            "conv5_block3_1_bn (BatchNormali (None, 2, 2, 512)    2048        conv5_block3_1_conv[0][0]        \n",
            "__________________________________________________________________________________________________\n",
            "conv5_block3_1_relu (Activation (None, 2, 2, 512)    0           conv5_block3_1_bn[0][0]          \n",
            "__________________________________________________________________________________________________\n",
            "conv5_block3_2_conv (Conv2D)    (None, 2, 2, 512)    2359808     conv5_block3_1_relu[0][0]        \n",
            "__________________________________________________________________________________________________\n",
            "conv5_block3_2_bn (BatchNormali (None, 2, 2, 512)    2048        conv5_block3_2_conv[0][0]        \n",
            "__________________________________________________________________________________________________\n",
            "conv5_block3_2_relu (Activation (None, 2, 2, 512)    0           conv5_block3_2_bn[0][0]          \n",
            "__________________________________________________________________________________________________\n",
            "conv5_block3_3_conv (Conv2D)    (None, 2, 2, 2048)   1050624     conv5_block3_2_relu[0][0]        \n",
            "__________________________________________________________________________________________________\n",
            "conv5_block3_3_bn (BatchNormali (None, 2, 2, 2048)   8192        conv5_block3_3_conv[0][0]        \n",
            "__________________________________________________________________________________________________\n",
            "conv5_block3_add (Add)          (None, 2, 2, 2048)   0           conv5_block2_out[0][0]           \n",
            "                                                                 conv5_block3_3_bn[0][0]          \n",
            "__________________________________________________________________________________________________\n",
            "conv5_block3_out (Activation)   (None, 2, 2, 2048)   0           conv5_block3_add[0][0]           \n",
            "==================================================================================================\n",
            "Total params: 23,587,712\n",
            "Trainable params: 23,534,592\n",
            "Non-trainable params: 53,120\n",
            "__________________________________________________________________________________________________\n",
            "None\n"
          ],
          "name": "stdout"
        }
      ]
    },
    {
      "cell_type": "code",
      "metadata": {
        "id": "7ZdSIMcQ88w7"
      },
      "source": [
        "# construct the head of the model that will be placed on top of the\n",
        "# the base model"
      ],
      "execution_count": 101,
      "outputs": []
    },
    {
      "cell_type": "code",
      "metadata": {
        "id": "9wJAIdIa88xD"
      },
      "source": [
        "headModel = baseModel.output\n",
        "headModel = AveragePooling2D(pool_size=(2, 2))(headModel)\n",
        "headModel = Flatten(name=\"flatten\")(headModel)\n",
        "headModel = Dense(128, activation=\"relu\")(headModel)\n",
        "headModel = Dropout(0.5)(headModel)\n",
        "headModel = Dense(50, activation=\"softmax\")(headModel)"
      ],
      "execution_count": 102,
      "outputs": []
    },
    {
      "cell_type": "code",
      "metadata": {
        "id": "PJjvSiyf88xH"
      },
      "source": [
        "# place the head FC model on top of the base model (this will become\n",
        "# the actual model we will train)"
      ],
      "execution_count": 103,
      "outputs": []
    },
    {
      "cell_type": "code",
      "metadata": {
        "id": "UqsuGS1g88xL"
      },
      "source": [
        "model = Model(inputs=baseModel.input, outputs=headModel)"
      ],
      "execution_count": 104,
      "outputs": []
    },
    {
      "cell_type": "code",
      "metadata": {
        "id": "R5sYna5R88xU"
      },
      "source": [
        "# loop over all layers in the base model and freeze them so they will\n",
        "# *not* be updated during the first training process"
      ],
      "execution_count": 105,
      "outputs": []
    },
    {
      "cell_type": "code",
      "metadata": {
        "id": "ZJDZBN_B88xY"
      },
      "source": [
        "for layer in baseModel.layers:\n",
        "    layer.trainable = False"
      ],
      "execution_count": 106,
      "outputs": []
    },
    {
      "cell_type": "code",
      "metadata": {
        "id": "s3b_B6Rj88xb"
      },
      "source": [
        "# compile our model (this needs to be done after our setting our\n",
        "# layers to being non-trainable)"
      ],
      "execution_count": 107,
      "outputs": []
    },
    {
      "cell_type": "code",
      "metadata": {
        "id": "rF_3h5tM88xf",
        "outputId": "4a831732-0ef0-44bc-931c-daf9daf161db",
        "colab": {
          "base_uri": "https://localhost:8080/",
          "height": 34
        }
      },
      "source": [
        "print(\"[INFO] compiling model...\")\n",
        "opt = Adam(lr=1e-4)\n",
        "model.compile(loss=\"categorical_crossentropy\", optimizer=opt,\n",
        "    metrics=[\"accuracy\"])"
      ],
      "execution_count": 108,
      "outputs": [
        {
          "output_type": "stream",
          "text": [
            "[INFO] compiling model...\n"
          ],
          "name": "stdout"
        }
      ]
    },
    {
      "cell_type": "code",
      "metadata": {
        "id": "8u-qfBih88xi"
      },
      "source": [
        "# train the head of the network for a few epochs (all other layers\n",
        "# are frozen) -- this will allow the new FC layers to start to become\n",
        "# initialized with actual \"learned\" values versus pure random"
      ],
      "execution_count": 109,
      "outputs": []
    },
    {
      "cell_type": "code",
      "metadata": {
        "id": "O4MD3akJ88xm",
        "outputId": "0da33283-b33d-41dd-aa87-f9ad19a6bf42",
        "colab": {
          "base_uri": "https://localhost:8080/",
          "height": 1000
        }
      },
      "source": [
        "print(\"[INFO] training head...\")\n",
        "H = model.fit(\n",
        "    x=aug.flow(trainX, trainY, batch_size=batch),\n",
        "    steps_per_epoch= 587,\n",
        "    validation_data=valAug.flow(testX, testY),\n",
        "    validation_steps= 140,\n",
        "    epochs=epochs)"
      ],
      "execution_count": 110,
      "outputs": [
        {
          "output_type": "stream",
          "text": [
            "[INFO] training head...\n",
            "Epoch 1/70\n",
            "587/587 [==============================] - 20s 34ms/step - loss: 3.3714 - accuracy: 0.1178 - val_loss: 3.0958 - val_accuracy: 0.1763\n",
            "Epoch 2/70\n",
            "587/587 [==============================] - 19s 32ms/step - loss: 3.1865 - accuracy: 0.1412 - val_loss: 3.0211 - val_accuracy: 0.1819\n",
            "Epoch 3/70\n",
            "587/587 [==============================] - 19s 32ms/step - loss: 3.1271 - accuracy: 0.1500 - val_loss: 2.9849 - val_accuracy: 0.1893\n",
            "Epoch 4/70\n",
            "587/587 [==============================] - 19s 33ms/step - loss: 3.0864 - accuracy: 0.1575 - val_loss: 2.9612 - val_accuracy: 0.1882\n",
            "Epoch 5/70\n",
            "587/587 [==============================] - 19s 33ms/step - loss: 3.0512 - accuracy: 0.1644 - val_loss: 2.9311 - val_accuracy: 0.2009\n",
            "Epoch 6/70\n",
            "587/587 [==============================] - 19s 33ms/step - loss: 3.0290 - accuracy: 0.1718 - val_loss: 2.9160 - val_accuracy: 0.1991\n",
            "Epoch 7/70\n",
            "587/587 [==============================] - 19s 32ms/step - loss: 3.0151 - accuracy: 0.1672 - val_loss: 2.8960 - val_accuracy: 0.1998\n",
            "Epoch 8/70\n",
            "587/587 [==============================] - 19s 33ms/step - loss: 2.9968 - accuracy: 0.1761 - val_loss: 2.8695 - val_accuracy: 0.2085\n",
            "Epoch 9/70\n",
            "587/587 [==============================] - 19s 32ms/step - loss: 2.9778 - accuracy: 0.1789 - val_loss: 2.8604 - val_accuracy: 0.2098\n",
            "Epoch 10/70\n",
            "587/587 [==============================] - 19s 33ms/step - loss: 2.9661 - accuracy: 0.1781 - val_loss: 2.8593 - val_accuracy: 0.2134\n",
            "Epoch 11/70\n",
            "587/587 [==============================] - 19s 32ms/step - loss: 2.9516 - accuracy: 0.1868 - val_loss: 2.8258 - val_accuracy: 0.2134\n",
            "Epoch 12/70\n",
            "587/587 [==============================] - 19s 32ms/step - loss: 2.9432 - accuracy: 0.1843 - val_loss: 2.8123 - val_accuracy: 0.2174\n",
            "Epoch 13/70\n",
            "587/587 [==============================] - 19s 32ms/step - loss: 2.9268 - accuracy: 0.1873 - val_loss: 2.8139 - val_accuracy: 0.2167\n",
            "Epoch 14/70\n",
            "587/587 [==============================] - 19s 32ms/step - loss: 2.9297 - accuracy: 0.1871 - val_loss: 2.7934 - val_accuracy: 0.2243\n",
            "Epoch 15/70\n",
            "587/587 [==============================] - 19s 33ms/step - loss: 2.9128 - accuracy: 0.1936 - val_loss: 2.7769 - val_accuracy: 0.2281\n",
            "Epoch 16/70\n",
            "587/587 [==============================] - 19s 32ms/step - loss: 2.9074 - accuracy: 0.1926 - val_loss: 2.7821 - val_accuracy: 0.2261\n",
            "Epoch 17/70\n",
            "587/587 [==============================] - 19s 32ms/step - loss: 2.9002 - accuracy: 0.1919 - val_loss: 2.7611 - val_accuracy: 0.2290\n",
            "Epoch 18/70\n",
            "587/587 [==============================] - 19s 32ms/step - loss: 2.8920 - accuracy: 0.1941 - val_loss: 2.7605 - val_accuracy: 0.2248\n",
            "Epoch 19/70\n",
            "587/587 [==============================] - 19s 32ms/step - loss: 2.8824 - accuracy: 0.1972 - val_loss: 2.7658 - val_accuracy: 0.2241\n",
            "Epoch 20/70\n",
            "587/587 [==============================] - 19s 32ms/step - loss: 2.8775 - accuracy: 0.1987 - val_loss: 2.7506 - val_accuracy: 0.2292\n",
            "Epoch 21/70\n",
            "587/587 [==============================] - 19s 32ms/step - loss: 2.8783 - accuracy: 0.2018 - val_loss: 2.7454 - val_accuracy: 0.2281\n",
            "Epoch 22/70\n",
            "587/587 [==============================] - 19s 33ms/step - loss: 2.8691 - accuracy: 0.1984 - val_loss: 2.7406 - val_accuracy: 0.2346\n",
            "Epoch 23/70\n",
            "587/587 [==============================] - 19s 33ms/step - loss: 2.8652 - accuracy: 0.1993 - val_loss: 2.7213 - val_accuracy: 0.2368\n",
            "Epoch 24/70\n",
            "587/587 [==============================] - 19s 33ms/step - loss: 2.8613 - accuracy: 0.2034 - val_loss: 2.7147 - val_accuracy: 0.2411\n",
            "Epoch 25/70\n",
            "587/587 [==============================] - 19s 32ms/step - loss: 2.8540 - accuracy: 0.2044 - val_loss: 2.7102 - val_accuracy: 0.2431\n",
            "Epoch 26/70\n",
            "587/587 [==============================] - 19s 32ms/step - loss: 2.8418 - accuracy: 0.2069 - val_loss: 2.7064 - val_accuracy: 0.2420\n",
            "Epoch 27/70\n",
            "587/587 [==============================] - 19s 33ms/step - loss: 2.8451 - accuracy: 0.2094 - val_loss: 2.6849 - val_accuracy: 0.2473\n",
            "Epoch 28/70\n",
            "587/587 [==============================] - 19s 32ms/step - loss: 2.8416 - accuracy: 0.2081 - val_loss: 2.6887 - val_accuracy: 0.2460\n",
            "Epoch 29/70\n",
            "587/587 [==============================] - 19s 32ms/step - loss: 2.8381 - accuracy: 0.2085 - val_loss: 2.6930 - val_accuracy: 0.2467\n",
            "Epoch 30/70\n",
            "587/587 [==============================] - 19s 33ms/step - loss: 2.8304 - accuracy: 0.2086 - val_loss: 2.6777 - val_accuracy: 0.2482\n",
            "Epoch 31/70\n",
            "587/587 [==============================] - 19s 33ms/step - loss: 2.8333 - accuracy: 0.2077 - val_loss: 2.6690 - val_accuracy: 0.2525\n",
            "Epoch 32/70\n",
            "587/587 [==============================] - 19s 32ms/step - loss: 2.8318 - accuracy: 0.2102 - val_loss: 2.6934 - val_accuracy: 0.2413\n",
            "Epoch 33/70\n",
            "587/587 [==============================] - 19s 32ms/step - loss: 2.8230 - accuracy: 0.2108 - val_loss: 2.6759 - val_accuracy: 0.2480\n",
            "Epoch 34/70\n",
            "587/587 [==============================] - 19s 32ms/step - loss: 2.8263 - accuracy: 0.2097 - val_loss: 2.6897 - val_accuracy: 0.2442\n",
            "Epoch 35/70\n",
            "587/587 [==============================] - 19s 32ms/step - loss: 2.8224 - accuracy: 0.2156 - val_loss: 2.6774 - val_accuracy: 0.2446\n",
            "Epoch 36/70\n",
            "587/587 [==============================] - 19s 32ms/step - loss: 2.8143 - accuracy: 0.2128 - val_loss: 2.6579 - val_accuracy: 0.2491\n",
            "Epoch 37/70\n",
            "587/587 [==============================] - 19s 33ms/step - loss: 2.8113 - accuracy: 0.2130 - val_loss: 2.6488 - val_accuracy: 0.2489\n",
            "Epoch 38/70\n",
            "587/587 [==============================] - 19s 32ms/step - loss: 2.8027 - accuracy: 0.2163 - val_loss: 2.6570 - val_accuracy: 0.2475\n",
            "Epoch 39/70\n",
            "587/587 [==============================] - 19s 32ms/step - loss: 2.8062 - accuracy: 0.2110 - val_loss: 2.6523 - val_accuracy: 0.2507\n",
            "Epoch 40/70\n",
            "587/587 [==============================] - 19s 32ms/step - loss: 2.8016 - accuracy: 0.2133 - val_loss: 2.6647 - val_accuracy: 0.2482\n",
            "Epoch 41/70\n",
            "587/587 [==============================] - 18s 31ms/step - loss: 2.7950 - accuracy: 0.2158 - val_loss: 2.6482 - val_accuracy: 0.2502\n",
            "Epoch 42/70\n",
            "587/587 [==============================] - 18s 31ms/step - loss: 2.8048 - accuracy: 0.2120 - val_loss: 2.6557 - val_accuracy: 0.2496\n",
            "Epoch 43/70\n",
            "587/587 [==============================] - 18s 31ms/step - loss: 2.8040 - accuracy: 0.2128 - val_loss: 2.6413 - val_accuracy: 0.2542\n",
            "Epoch 44/70\n",
            "587/587 [==============================] - 19s 32ms/step - loss: 2.7961 - accuracy: 0.2183 - val_loss: 2.6261 - val_accuracy: 0.2562\n",
            "Epoch 45/70\n",
            "587/587 [==============================] - 19s 32ms/step - loss: 2.7850 - accuracy: 0.2206 - val_loss: 2.6466 - val_accuracy: 0.2538\n",
            "Epoch 46/70\n",
            "587/587 [==============================] - 18s 31ms/step - loss: 2.7889 - accuracy: 0.2155 - val_loss: 2.6479 - val_accuracy: 0.2507\n",
            "Epoch 47/70\n",
            "587/587 [==============================] - 18s 31ms/step - loss: 2.7880 - accuracy: 0.2133 - val_loss: 2.6322 - val_accuracy: 0.2545\n",
            "Epoch 48/70\n",
            "587/587 [==============================] - 18s 31ms/step - loss: 2.7843 - accuracy: 0.2144 - val_loss: 2.6463 - val_accuracy: 0.2493\n",
            "Epoch 49/70\n",
            "587/587 [==============================] - 18s 31ms/step - loss: 2.7835 - accuracy: 0.2191 - val_loss: 2.6202 - val_accuracy: 0.2600\n",
            "Epoch 50/70\n",
            "587/587 [==============================] - 18s 31ms/step - loss: 2.7762 - accuracy: 0.2169 - val_loss: 2.6263 - val_accuracy: 0.2525\n",
            "Epoch 51/70\n",
            "587/587 [==============================] - 18s 31ms/step - loss: 2.7872 - accuracy: 0.2210 - val_loss: 2.6385 - val_accuracy: 0.2504\n",
            "Epoch 52/70\n",
            "587/587 [==============================] - 18s 31ms/step - loss: 2.7823 - accuracy: 0.2201 - val_loss: 2.6534 - val_accuracy: 0.2538\n",
            "Epoch 53/70\n",
            "587/587 [==============================] - 18s 31ms/step - loss: 2.7777 - accuracy: 0.2209 - val_loss: 2.6262 - val_accuracy: 0.2542\n",
            "Epoch 54/70\n",
            "587/587 [==============================] - 18s 31ms/step - loss: 2.7803 - accuracy: 0.2235 - val_loss: 2.6349 - val_accuracy: 0.2529\n",
            "Epoch 55/70\n",
            "587/587 [==============================] - 18s 31ms/step - loss: 2.7666 - accuracy: 0.2200 - val_loss: 2.6269 - val_accuracy: 0.2580\n",
            "Epoch 56/70\n",
            "587/587 [==============================] - 18s 31ms/step - loss: 2.7736 - accuracy: 0.2158 - val_loss: 2.6275 - val_accuracy: 0.2567\n",
            "Epoch 57/70\n",
            "587/587 [==============================] - 18s 31ms/step - loss: 2.7736 - accuracy: 0.2209 - val_loss: 2.6132 - val_accuracy: 0.2578\n",
            "Epoch 58/70\n",
            "587/587 [==============================] - 18s 31ms/step - loss: 2.7658 - accuracy: 0.2188 - val_loss: 2.6206 - val_accuracy: 0.2498\n",
            "Epoch 59/70\n",
            "587/587 [==============================] - 18s 31ms/step - loss: 2.7748 - accuracy: 0.2215 - val_loss: 2.6110 - val_accuracy: 0.2587\n",
            "Epoch 60/70\n",
            "587/587 [==============================] - 18s 31ms/step - loss: 2.7662 - accuracy: 0.2238 - val_loss: 2.6238 - val_accuracy: 0.2525\n",
            "Epoch 61/70\n",
            "587/587 [==============================] - 18s 31ms/step - loss: 2.7679 - accuracy: 0.2217 - val_loss: 2.5891 - val_accuracy: 0.2627\n",
            "Epoch 62/70\n",
            "587/587 [==============================] - 18s 31ms/step - loss: 2.7634 - accuracy: 0.2241 - val_loss: 2.6053 - val_accuracy: 0.2594\n",
            "Epoch 63/70\n",
            "587/587 [==============================] - 18s 31ms/step - loss: 2.7586 - accuracy: 0.2184 - val_loss: 2.6030 - val_accuracy: 0.2545\n",
            "Epoch 64/70\n",
            "587/587 [==============================] - 19s 32ms/step - loss: 2.7615 - accuracy: 0.2250 - val_loss: 2.6047 - val_accuracy: 0.2585\n",
            "Epoch 65/70\n",
            "587/587 [==============================] - 19s 32ms/step - loss: 2.7561 - accuracy: 0.2221 - val_loss: 2.6069 - val_accuracy: 0.2560\n",
            "Epoch 66/70\n",
            "587/587 [==============================] - 19s 33ms/step - loss: 2.7533 - accuracy: 0.2245 - val_loss: 2.6075 - val_accuracy: 0.2580\n",
            "Epoch 67/70\n",
            "587/587 [==============================] - 19s 32ms/step - loss: 2.7525 - accuracy: 0.2267 - val_loss: 2.6162 - val_accuracy: 0.2529\n",
            "Epoch 68/70\n",
            "587/587 [==============================] - 19s 32ms/step - loss: 2.7520 - accuracy: 0.2242 - val_loss: 2.6108 - val_accuracy: 0.2583\n",
            "Epoch 69/70\n",
            "587/587 [==============================] - 19s 32ms/step - loss: 2.7546 - accuracy: 0.2250 - val_loss: 2.5917 - val_accuracy: 0.2594\n",
            "Epoch 70/70\n",
            "587/587 [==============================] - 19s 33ms/step - loss: 2.7465 - accuracy: 0.2270 - val_loss: 2.5926 - val_accuracy: 0.2598\n"
          ],
          "name": "stdout"
        }
      ]
    },
    {
      "cell_type": "code",
      "metadata": {
        "id": "u1BuXCn788xu"
      },
      "source": [
        "# plot the training loss and accuracy"
      ],
      "execution_count": 111,
      "outputs": []
    },
    {
      "cell_type": "code",
      "metadata": {
        "id": "JHvAZ78I88xz",
        "outputId": "b3ebe016-58c6-44e3-ed5a-df0f2d16b50d",
        "colab": {
          "base_uri": "https://localhost:8080/",
          "height": 299
        }
      },
      "source": [
        "N = epochs\n",
        "plt.style.use(\"ggplot\")\n",
        "plt.figure()\n",
        "plt.plot(np.arange(0, N), H.history[\"loss\"], label=\"train_loss\")\n",
        "plt.plot(np.arange(0, N), H.history[\"val_loss\"], label=\"val_loss\")\n",
        "plt.plot(np.arange(0, N), H.history[\"accuracy\"], label=\"train_acc\")\n",
        "plt.plot(np.arange(0, N), H.history[\"val_accuracy\"], label=\"val_acc\")\n",
        "plt.title(\"Training Loss and Accuracy on Dataset\")\n",
        "plt.xlabel(\"Epoch 5\")\n",
        "plt.ylabel(\"Loss/Accuracy\")\n",
        "plt.legend(loc=\"lower left\")\n",
        "plt.savefig(\"plot-\"+ str(epochs) + \"-\" + str(batch) + \".png\")"
      ],
      "execution_count": 112,
      "outputs": [
        {
          "output_type": "display_data",
          "data": {
            "image/png": "[encoded data removed]",
            "text/plain": [
              "<Figure size 432x288 with 1 Axes>"
            ]
          },
          "metadata": {
            "tags": []
          }
        }
      ]
    },
    {
      "cell_type": "code",
      "metadata": {
        "id": "3kmc6ojM88x8"
      },
      "source": [
        "#Serialize the model to disk"
      ],
      "execution_count": 113,
      "outputs": []
    },
    {
      "cell_type": "code",
      "metadata": {
        "id": "XH9hoqvc88x_"
      },
      "source": [
        "model.save(\"/content/gdrive/My Drive/mask_detector.model\", save_format=\"h5\")"
      ],
      "execution_count": 114,
      "outputs": []
    }
  ]
}